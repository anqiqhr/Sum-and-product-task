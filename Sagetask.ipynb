{
 "cells": [
  {
   "cell_type": "code",
   "execution_count": 2,
   "id": "9ef0ac28-baad-4af6-8b8d-dcca1ea7cd2e",
   "metadata": {},
   "outputs": [
    {
     "name": "stdout",
     "output_type": "stream",
     "text": [
      "Початкова кількість пар:  4950 \n",
      "\n"
     ]
    }
   ],
   "source": [
    "import numpy as np\n",
    "\n",
    "variants = [(i, j)for i in range(2,101) for j in range(i,101)]\n",
    "print(\"Початкова кількість пар: \",len(variants), \"\\n\")\n",
    "\n",
    "products = {}                       #всі можливі добутки\n",
    "for i in range(4,10001):\n",
    "    pairs = []\n",
    "    for j in range(2, i):\n",
    "        if j > 100 or [int(i / j), j] in pairs: break\n",
    "        if i % j == 0: pairs.append([j, int(i / j)])\n",
    "    products[i] = pairs\n",
    "\n",
    "sums = {}                           #всі можливі суми\n",
    "for i in range(4,201):\n",
    "    pairs = []\n",
    "    for j in range(2,int(i/2) + 1):\n",
    "        pairs.append([j, i - j])\n",
    "    sums[i] = pairs\n",
    "#print(products, \"\\n\")\n",
    "#print(sums, \"\\n\")"
   ]
  },
  {
   "cell_type": "code",
   "execution_count": 6,
   "id": "af2a7105-f18b-4a71-8d78-571e1c45b20a",
   "metadata": {},
   "outputs": [
    {
     "name": "stdout",
     "output_type": "stream",
     "text": [
      "Кількість пар після першої тези:  4620 \n",
      "\n"
     ]
    }
   ],
   "source": [
    "def statement_One():    # Product sage: I dont know the numbers (Якщо знаючи добуток невідомих, \n",
    "    dobs = []           # мудрець не може їх визначити значить це число має більше ніж 2 дільника(2 пари і більше))\n",
    "    for i in range(4,10000):\n",
    "        j = 2\n",
    "        x = 0\n",
    "        while j <= i / 2:\n",
    "            if i % j == 0: x+=1\n",
    "            j+=1\n",
    "            if x > 2:\n",
    "                dobs.append(i) \n",
    "                break\n",
    "    return dobs\n",
    "\n",
    "dobs = statement_One() # Всі добутки що відповідають умові після другої заяви\n",
    "\n",
    "variants = [i for i in variants if i[0] * i[1] in dobs] #звужуєм кількість можливих пар\n",
    "\n",
    "print(\"Кількість пар після першої тези: \",len(variants), \"\\n\")\n",
    "#print(variants, \"\\n\\n\\n\")"
   ]
  },
  {
   "cell_type": "code",
   "execution_count": 8,
   "id": "d5f8ee5c-2e69-4071-8b37-c41802c91725",
   "metadata": {},
   "outputs": [
    {
     "name": "stdout",
     "output_type": "stream",
     "text": [
      "Кількість пар після другої тези:  1427 \n",
      "\n"
     ]
    }
   ],
   "source": [
    "def statement_Two(): # Sum sage: I know that you dont know (Те що мудрець, що знає суму розуміє, що мудрець добутку не може знати числа говорить про те, \n",
    "    good_sums = []   # що ВСІ можливі пари доданків при їх добутку дають числа що мають більше ніж 2 дільники)\n",
    "    for s in range(4, 201):\n",
    "        if all(a * b in dobs for a, b in sums[s]):\n",
    "            good_sums.append(s)\n",
    "    return good_sums\n",
    "\n",
    "good_sums = statement_Two()     # Всі суми що відповідають умові після другої заяви\n",
    "#print(good_sums)\n",
    "\n",
    "\n",
    "variants = [i for i in variants if i[0] + i[1] in good_sums]    #звужуєм кількість можливих пар\n",
    "\n",
    "print(\"Кількість пар після другої тези: \",len(variants), \"\\n\")\n",
    "#print(variants, \"\\n\\n\\n\")"
   ]
  },
  {
   "cell_type": "code",
   "execution_count": 10,
   "id": "4fc4d2a6-33a4-4781-9989-d13f5dfecc59",
   "metadata": {},
   "outputs": [
    {
     "name": "stdout",
     "output_type": "stream",
     "text": [
      "Кількість пар після третьої тези:  856\n"
     ]
    }
   ],
   "source": [
    "def statement_Three():          # Product sage: Then i know it (Те що після цього муд. добутку зміг дізнатися про числа говорить про те, \n",
    "    new_variants = []           # що він перевірив пари дільників відомого йому добутку на те чи вони підходять до попередньої умови (є в good_sums), \n",
    "                                #і підійшла лише одна пара тому він зміг визначити числа)\n",
    "    products_set = set([a * b for a, b in variants])\n",
    "\n",
    "    for p in products_set:\n",
    "        matching_pairs = [pair for pair in variants if pair[0] * pair[1] == p]\n",
    "\n",
    "        valid_sums = [sum(pair) for pair in matching_pairs if sum(pair) in good_sums]\n",
    "    \n",
    "        if len(valid_sums) == 1: # Якщо серед цих пар лише одна має \"добру\" суму - Prod може її визначити\n",
    "            for pair in matching_pairs:\n",
    "                if sum(pair) == valid_sums[0]:\n",
    "                    new_variants.append(pair)\n",
    "    return new_variants\n",
    "\n",
    "variants = statement_Three()   #звужуєм кількість можливих пар\n",
    "print(\"Кількість пар після третьої тези: \",len(variants))"
   ]
  },
  {
   "cell_type": "code",
   "execution_count": 12,
   "id": "0baaf5a3-d37e-421c-9d74-f58cfd709acd",
   "metadata": {},
   "outputs": [
    {
     "name": "stdout",
     "output_type": "stream",
     "text": [
      "\n",
      "Розв'язок: 4, 13\n"
     ]
    }
   ],
   "source": [
    "def statement_Four():               # Sum sage: Then i know it too (Вибравши всі пари що підходять до минулих умов мудрець суми зміг з них знайти розв'язок теж, \n",
    "    sum_check = {}                  # тобто лише одна пара з всіх що залишилися має унікальну суму, вона і є розв'язком)\n",
    "    for pair in variants:\n",
    "        suma = pair[0] + pair[1]\n",
    "        if suma not in sum_check:\n",
    "            sum_check[suma] = []\n",
    "        sum_check[suma].append(pair)\n",
    "\n",
    "    solution_quantity = 0\n",
    "    for s, group in sum_check.items():\n",
    "        if len(group) == 1: \n",
    "            solution_quantity += 1\n",
    "            right_group = group.copy()\n",
    "\n",
    "    if solution_quantity == 1: return(f\"\\nРозв'язок: {right_group[0][0]}, {right_group[0][1]}\")\n",
    "    else: return(\"\\nНемає явного розв'язку / Декілька варіантів розв'язку\")\n",
    "\n",
    "print(statement_Four())"
   ]
  },
  {
   "cell_type": "code",
   "execution_count": null,
   "id": "c88976ae-6175-4fe8-8041-e500823468ae",
   "metadata": {},
   "outputs": [],
   "source": []
  }
 ],
 "metadata": {
  "kernelspec": {
   "display_name": "Python [conda env:base] *",
   "language": "python",
   "name": "conda-base-py"
  },
  "language_info": {
   "codemirror_mode": {
    "name": "ipython",
    "version": 3
   },
   "file_extension": ".py",
   "mimetype": "text/x-python",
   "name": "python",
   "nbconvert_exporter": "python",
   "pygments_lexer": "ipython3",
   "version": "3.12.7"
  }
 },
 "nbformat": 4,
 "nbformat_minor": 5
}
